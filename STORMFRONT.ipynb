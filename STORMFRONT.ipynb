{
 "cells": [
  {
   "cell_type": "code",
   "execution_count": 231,
   "id": "d6fccf0e",
   "metadata": {},
   "outputs": [],
   "source": [
    "import numpy as np\n",
    "import pandas as pd\n",
    "import os\n",
    "import collections\n",
    "from pandas.core.reshape.merge import merge\n",
    "import matplotlib.pyplot as plt\n",
    "os.chdir('C:\\\\Users\\\\ellas\\\\Downloads')\n",
    "import nltk.corpus #Import the nltk.corpus submodule\n"
   ]
  },
  {
   "cell_type": "code",
   "execution_count": 232,
   "id": "72df7313",
   "metadata": {},
   "outputs": [
    {
     "data": {
      "text/html": [
       "<div>\n",
       "<style scoped>\n",
       "    .dataframe tbody tr th:only-of-type {\n",
       "        vertical-align: middle;\n",
       "    }\n",
       "\n",
       "    .dataframe tbody tr th {\n",
       "        vertical-align: top;\n",
       "    }\n",
       "\n",
       "    .dataframe thead th {\n",
       "        text-align: right;\n",
       "    }\n",
       "</style>\n",
       "<table border=\"1\" class=\"dataframe\">\n",
       "  <thead>\n",
       "    <tr style=\"text-align: right;\">\n",
       "      <th></th>\n",
       "      <th>comment</th>\n",
       "      <th>violence</th>\n",
       "      <th>directed_vs_generalized</th>\n",
       "      <th>gender</th>\n",
       "      <th>race</th>\n",
       "      <th>national_origin</th>\n",
       "      <th>disability</th>\n",
       "      <th>religion</th>\n",
       "      <th>sexual_orientation</th>\n",
       "    </tr>\n",
       "  </thead>\n",
       "  <tbody>\n",
       "    <tr>\n",
       "      <th>0</th>\n",
       "      <td>You should know women's sports are a joke</td>\n",
       "      <td>0.000000</td>\n",
       "      <td>0.000000</td>\n",
       "      <td>1.000000</td>\n",
       "      <td>0.000000</td>\n",
       "      <td>0.000000</td>\n",
       "      <td>0.000000</td>\n",
       "      <td>0.000000</td>\n",
       "      <td>0.000000</td>\n",
       "    </tr>\n",
       "    <tr>\n",
       "      <th>1</th>\n",
       "      <td>You look like Sloth with deeper Down’s syndrome</td>\n",
       "      <td>0.000000</td>\n",
       "      <td>0.833333</td>\n",
       "      <td>0.000000</td>\n",
       "      <td>0.000000</td>\n",
       "      <td>0.000000</td>\n",
       "      <td>1.000000</td>\n",
       "      <td>0.000000</td>\n",
       "      <td>0.000000</td>\n",
       "    </tr>\n",
       "    <tr>\n",
       "      <th>2</th>\n",
       "      <td>You look like Russian and speak like Indian. B...</td>\n",
       "      <td>1.000000</td>\n",
       "      <td>0.500000</td>\n",
       "      <td>0.142857</td>\n",
       "      <td>0.142857</td>\n",
       "      <td>0.714286</td>\n",
       "      <td>0.000000</td>\n",
       "      <td>0.000000</td>\n",
       "      <td>0.000000</td>\n",
       "    </tr>\n",
       "    <tr>\n",
       "      <th>3</th>\n",
       "      <td>Women deserve to be abused, I guess.</td>\n",
       "      <td>0.666667</td>\n",
       "      <td>0.166667</td>\n",
       "      <td>1.000000</td>\n",
       "      <td>0.000000</td>\n",
       "      <td>0.000000</td>\n",
       "      <td>0.000000</td>\n",
       "      <td>0.000000</td>\n",
       "      <td>0.000000</td>\n",
       "    </tr>\n",
       "    <tr>\n",
       "      <th>4</th>\n",
       "      <td>Women are made for making babies and cooking d...</td>\n",
       "      <td>0.000000</td>\n",
       "      <td>0.000000</td>\n",
       "      <td>1.000000</td>\n",
       "      <td>0.000000</td>\n",
       "      <td>0.000000</td>\n",
       "      <td>0.000000</td>\n",
       "      <td>0.000000</td>\n",
       "      <td>0.000000</td>\n",
       "    </tr>\n",
       "    <tr>\n",
       "      <th>...</th>\n",
       "      <td>...</td>\n",
       "      <td>...</td>\n",
       "      <td>...</td>\n",
       "      <td>...</td>\n",
       "      <td>...</td>\n",
       "      <td>...</td>\n",
       "      <td>...</td>\n",
       "      <td>...</td>\n",
       "      <td>...</td>\n",
       "    </tr>\n",
       "    <tr>\n",
       "      <th>428</th>\n",
       "      <td>All people are fucked up because of these quee...</td>\n",
       "      <td>0.000000</td>\n",
       "      <td>0.000000</td>\n",
       "      <td>0.571429</td>\n",
       "      <td>0.000000</td>\n",
       "      <td>0.000000</td>\n",
       "      <td>0.000000</td>\n",
       "      <td>0.000000</td>\n",
       "      <td>0.571429</td>\n",
       "    </tr>\n",
       "    <tr>\n",
       "      <th>429</th>\n",
       "      <td>Actually THIS WEIRD PEOPLE are HARMFUL! They n...</td>\n",
       "      <td>0.000000</td>\n",
       "      <td>1.000000</td>\n",
       "      <td>0.000000</td>\n",
       "      <td>0.000000</td>\n",
       "      <td>0.333333</td>\n",
       "      <td>0.666667</td>\n",
       "      <td>0.000000</td>\n",
       "      <td>0.000000</td>\n",
       "    </tr>\n",
       "    <tr>\n",
       "      <th>430</th>\n",
       "      <td>ABU DA BI ABA DU BA BA HAMUD! See? I’m an arab...</td>\n",
       "      <td>0.000000</td>\n",
       "      <td>0.000000</td>\n",
       "      <td>0.000000</td>\n",
       "      <td>0.285714</td>\n",
       "      <td>0.000000</td>\n",
       "      <td>0.000000</td>\n",
       "      <td>0.857143</td>\n",
       "      <td>0.000000</td>\n",
       "    </tr>\n",
       "    <tr>\n",
       "      <th>431</th>\n",
       "      <td>a homo? so you fuck your brother instead of yo...</td>\n",
       "      <td>0.000000</td>\n",
       "      <td>0.666667</td>\n",
       "      <td>0.000000</td>\n",
       "      <td>0.000000</td>\n",
       "      <td>0.000000</td>\n",
       "      <td>0.000000</td>\n",
       "      <td>0.000000</td>\n",
       "      <td>1.000000</td>\n",
       "    </tr>\n",
       "    <tr>\n",
       "      <th>432</th>\n",
       "      <td>(((They))) will be chased out of every white c...</td>\n",
       "      <td>0.333333</td>\n",
       "      <td>0.000000</td>\n",
       "      <td>0.000000</td>\n",
       "      <td>0.666667</td>\n",
       "      <td>0.000000</td>\n",
       "      <td>0.000000</td>\n",
       "      <td>0.333333</td>\n",
       "      <td>0.000000</td>\n",
       "    </tr>\n",
       "  </tbody>\n",
       "</table>\n",
       "<p>433 rows × 9 columns</p>\n",
       "</div>"
      ],
      "text/plain": [
       "                                               comment  violence  \\\n",
       "0            You should know women's sports are a joke  0.000000   \n",
       "1      You look like Sloth with deeper Down’s syndrome  0.000000   \n",
       "2    You look like Russian and speak like Indian. B...  1.000000   \n",
       "3                 Women deserve to be abused, I guess.  0.666667   \n",
       "4    Women are made for making babies and cooking d...  0.000000   \n",
       "..                                                 ...       ...   \n",
       "428  All people are fucked up because of these quee...  0.000000   \n",
       "429  Actually THIS WEIRD PEOPLE are HARMFUL! They n...  0.000000   \n",
       "430  ABU DA BI ABA DU BA BA HAMUD! See? I’m an arab...  0.000000   \n",
       "431  a homo? so you fuck your brother instead of yo...  0.000000   \n",
       "432  (((They))) will be chased out of every white c...  0.333333   \n",
       "\n",
       "     directed_vs_generalized    gender      race  national_origin  disability  \\\n",
       "0                   0.000000  1.000000  0.000000         0.000000    0.000000   \n",
       "1                   0.833333  0.000000  0.000000         0.000000    1.000000   \n",
       "2                   0.500000  0.142857  0.142857         0.714286    0.000000   \n",
       "3                   0.166667  1.000000  0.000000         0.000000    0.000000   \n",
       "4                   0.000000  1.000000  0.000000         0.000000    0.000000   \n",
       "..                       ...       ...       ...              ...         ...   \n",
       "428                 0.000000  0.571429  0.000000         0.000000    0.000000   \n",
       "429                 1.000000  0.000000  0.000000         0.333333    0.666667   \n",
       "430                 0.000000  0.000000  0.285714         0.000000    0.000000   \n",
       "431                 0.666667  0.000000  0.000000         0.000000    0.000000   \n",
       "432                 0.000000  0.000000  0.666667         0.000000    0.000000   \n",
       "\n",
       "     religion  sexual_orientation  \n",
       "0    0.000000            0.000000  \n",
       "1    0.000000            0.000000  \n",
       "2    0.000000            0.000000  \n",
       "3    0.000000            0.000000  \n",
       "4    0.000000            0.000000  \n",
       "..        ...                 ...  \n",
       "428  0.000000            0.571429  \n",
       "429  0.000000            0.000000  \n",
       "430  0.857143            0.000000  \n",
       "431  0.000000            1.000000  \n",
       "432  0.333333            0.000000  \n",
       "\n",
       "[433 rows x 9 columns]"
      ]
     },
     "execution_count": 232,
     "metadata": {},
     "output_type": "execute_result"
    }
   ],
   "source": [
    "storm = pd.read_csv('Ethos_Dataset_Multi_Label (2).csv', sep = ';')\n",
    "storm = storm.drop_duplicates()\n",
    "storm"
   ]
  },
  {
   "cell_type": "markdown",
   "id": "e9853aff",
   "metadata": {},
   "source": [
    "Questions of interest\n",
    "1. What percentage of these tweets are being flagged for race, national origin, violence, directed?\n",
    "2. What percentage of these tweets are being flagged for intent and violence? \n",
    "3. What racial/ethnic groups are being targeted in the tweets flagged for both intent and violence"
   ]
  },
  {
   "cell_type": "code",
   "execution_count": 234,
   "id": "c1fe3775",
   "metadata": {},
   "outputs": [
    {
     "data": {
      "image/png": "[encoded data removed]",
      "text/plain": [
       "<Figure size 432x288 with 1 Axes>"
      ]
     },
     "metadata": {
      "needs_background": "light"
     },
     "output_type": "display_data"
    }
   ],
   "source": [
    "#Percentage Flagged for offensive nationality language and offensive racial language \n",
    "a=0\n",
    "for x in range(len(storm.race)):\n",
    "    if (storm.national_origin[x] != 0  or storm.race[x] != 0):\n",
    "        a=a+1\n",
    "natrac = a/len(storm.race)\n",
    "\n",
    "#Violence:\n",
    "collections.Counter(storm.violence != 0)\n",
    "vio = 248/len(storm.national_origin)\n",
    "\n",
    "#Percentage of nationality language and/or offensive racial language which are also violent:\n",
    "lst = []\n",
    "b=0\n",
    "for x in range(len(storm.race)):\n",
    "    if ((storm.national_origin[x] != 0  or storm.race[x] != 0) and storm.violence[x] != 0):\n",
    "        b=b+1\n",
    "racvio = b/len(storm.national_origin)\n",
    "\n",
    "#Barplot to display results:\n",
    "multi= {'Racist':natrac, 'Violent': vio, 'Racist and Violent': racvio}\n",
    "multi\n",
    "plt.bar(multi.keys(), multi.values()) \n",
    "plt.ylabel(\"Percent of all Tweets\")\n",
    "plt.ylim(0, .6)\n",
    "plt.title(\"Stormfront: Percentage of Hate Speech Posts by Hate Type\")\n",
    "plt.show()"
   ]
  },
  {
   "cell_type": "code",
   "execution_count": 235,
   "id": "da8d2b0c",
   "metadata": {
    "scrolled": true
   },
   "outputs": [],
   "source": [
    "#Percentage flagged for violence which have offensive nationality language\n",
    "lst = []\n",
    "for x in range(len(storm.race)):\n",
    "    trufal = (storm.national_origin[x] != 0 and storm.violence[x] != 0)\n",
    "    lst.append(trufal)\n",
    "collections.Counter(lst)\n",
    "natvio = 86/229\n",
    "\n",
    "#Percentage Flagged for violence which have offensive racial language\n",
    "lst = []\n",
    "for x in range(len(storm.race)):\n",
    "    trufal = (storm.race[x] != 0 and storm.violence[x] != 0)\n",
    "    lst.append(trufal)\n",
    "collections.Counter(lst)\n",
    "racvio = 80/297\n",
    "\n",
    "#Percentage Flagged for offensive racial language which are also violent\n",
    "lst = []\n",
    "for x in range(len(storm.race)):\n",
    "    trufal = (storm.directed_vs_generalized[x] != 0 and storm.violence[x] != 0)\n",
    "    lst.append(trufal)\n",
    "collections.Counter(lst)\n",
    "dirvio = 146/185\n",
    "\n",
    "#Percentage Flagged for being directed which also have offensive nationality language \n",
    "lst = []\n",
    "for x in range(len(storm.race)):\n",
    "    trufal = (storm.national_origin[x] != 0 and storm.directed_vs_generalized[x] != 0)\n",
    "    lst.append(trufal)\n",
    "collections.Counter(lst)\n",
    "natdir = 73/229\n",
    "\n",
    "#Percentage Flagged for being directed which also have offensive racial language \n",
    "lst = []\n",
    "for x in range(len(storm.race)):\n",
    "    trufal = (storm.race[x] != 0 and storm.directed_vs_generalized[x] != 0)\n",
    "    lst.append(trufal)\n",
    "collections.Counter(lst)\n",
    "racdir = 70/297\n",
    "\n",
    "#Percentage Flagged for offensive nationality language and offensive racial language \n",
    "a=0\n",
    "for x in range(len(storm.race)):\n",
    "    if (storm.national_origin[x] != 0  or storm.race[x] != 0):\n",
    "        a=a+1\n",
    "natrac = a/len(storm.race)\n",
    "\n",
    "#Percentage of nationality language and/or offensive racial language which are also violent\n",
    "lst = []\n",
    "for x in range(len(storm.race)):\n",
    "    trufal = ((storm.national_origin[x] != 0  or storm.race[x] != 0) and storm.violence[x] != 0)\n",
    "    lst.append(trufal)\n",
    "collections.Counter(lst)\n",
    "natracvio = 126/len(storm.race)\n",
    "\n",
    "#Percentage of nationality language and/or offensive racial language which are also violent and directed\n",
    "lst = []\n",
    "for x in range(len(storm.race)):\n",
    "    trufal = ((storm.national_origin[x] != 0  or storm.race[x] != 0) and storm.violence[x] != 0 and  storm.directed_vs_generalized[x] != 0)\n",
    "    lst.append(trufal)\n",
    "collections.Counter(lst)\n",
    "natracviodir = 69/205"
   ]
  },
  {
   "cell_type": "code",
   "execution_count": 236,
   "id": "6683c265",
   "metadata": {},
   "outputs": [
    {
     "data": {
      "text/plain": [
       "0.5727482678983834"
      ]
     },
     "execution_count": 236,
     "metadata": {},
     "output_type": "execute_result"
    }
   ],
   "source": [
    "vio"
   ]
  },
  {
   "cell_type": "markdown",
   "id": "c65107fc",
   "metadata": {},
   "source": [
    "Key findings:\n",
    "- 47% of all posts are flagged for race or nationality\n",
    "- 29% of posts were flagged for race or nationality and violence\n",
    "- 33.7% of posts flagged for race or nationality were also flagged as violent and directed.\n",
    "- Overall high rate of violent posts, about 57% of all posts were violent"
   ]
  },
  {
   "cell_type": "code",
   "execution_count": 287,
   "id": "88585114",
   "metadata": {
    "scrolled": true
   },
   "outputs": [],
   "source": [
    "lst=[]\n",
    "for x in range(len(storm.race)):\n",
    "    if (storm.national_origin[x] != 0  or storm.race[x] != 0):\n",
    "        lst.append(storm.comment[x])\n",
    "lst=str(lst)\n",
    "lst #This is a list of all the comments flagged for racial or nationality and violence and direction\n",
    "lst = lst.replace(\"!\", '') \n",
    "lst = lst.replace(\".\", '') \n",
    "lst = lst.replace(\"'\", '') \n",
    "lst = lst.replace(\"(\", '') \n",
    "lst = lst.replace(\")\", '')\n",
    "lst = lst.replace(\",\", '')\n",
    "lst = lst.lower() #Removed the puncation and set to lower case"
   ]
  },
  {
   "cell_type": "code",
   "execution_count": 288,
   "id": "911c39f7",
   "metadata": {},
   "outputs": [],
   "source": [
    "#Stopword Removal\n",
    "words = nltk.word_tokenize(lst)\n",
    "stopwords = ['i','me','my','myself','we','our','ours','ourselves','you',\"you're\",\"you've\",\"you'll\",\"you'd\",'your',\n",
    "             'yours','yourself','yourselves','it',\"it's\",'its','itself','they','them','their','theirs','themselves',\n",
    "             'what','which','who','whom','this','that',\"that'll\",'these','those','am','is','are','was','were','be',\n",
    "             'been','being','have','has','had','having','do','does','did','doing','a','an','the','and','but','if',\n",
    "             'or','because','as','until','while','of','at','by','for','with','about','against','between','into',\n",
    "             'through','during','before','after','above','below','to','from','up','down','in','out','on','off',\n",
    "             'over','under','again','further','then','once','here','there','when','where','why','how','all','any',\n",
    "             'both','each''few','more','most','other','some','such','no','nor','not','only','own','same','so',\n",
    "             'than','too','very','s','t','can','will','just','don',\"don't\",'should',\"should've\",'now','d','ll','m',\n",
    "             'o','re','ve','y','ain','aren',\"aren't\",'couldn',\"couldn't\",'didn',\"didn't\",'doesn',\"doesn't\",'hadn',\n",
    "             \"hadn't\",'hasn',\"hasn't\",'haven',\"haven't\",'isn',\"isn't\",'ma','mightn',\"mightn't\",'mustn',\"mustn't\",\n",
    "             'needn',\"needn't\",'shan',\"shan't\",'shouldn',\"shouldn't\",'wasn',\"wasn't\",'weren',\"weren't\",'won',\n",
    "             \"won't\",'would','wouldn',\"wouldn't\"]\n",
    "\n",
    "words = [w for w in words if w not in stopwords]"
   ]
  },
  {
   "cell_type": "code",
   "execution_count": 289,
   "id": "22838523",
   "metadata": {},
   "outputs": [
    {
     "data": {
      "image/png": "[encoded data removed]",
      "text/plain": [
       "<Figure size 432x288 with 1 Axes>"
      ]
     },
     "metadata": {
      "needs_background": "light"
     },
     "output_type": "display_data"
    },
    {
     "data": {
      "text/plain": [
       "<AxesSubplot:xlabel='Samples', ylabel='Counts'>"
      ]
     },
     "execution_count": 289,
     "metadata": {},
     "output_type": "execute_result"
    }
   ],
   "source": [
    "#Word Frequency of violent racist posts\n",
    "fq = nltk.FreqDist(w for w in words if w.isalnum())\n",
    "fq.plot(20)"
   ]
  },
  {
   "cell_type": "code",
   "execution_count": 290,
   "id": "74b780a9",
   "metadata": {},
   "outputs": [
    {
     "data": {
      "text/plain": [
       "Text(0.5, 1.0, 'Stormfront: Racial Groups Receiving Violent and Targeted Posts')"
      ]
     },
     "execution_count": 290,
     "metadata": {},
     "output_type": "execute_result"
    },
    {
     "data": {
      "image/png": "[encoded data removed]",
      "text/plain": [
       "<Figure size 432x288 with 1 Axes>"
      ]
     },
     "metadata": {},
     "output_type": "display_data"
    }
   ],
   "source": [
    "#Of the racist posts which are violent and targeted, these are the ethnic groups targeted\n",
    "\n",
    "labels = ['Asian', 'Black', 'Hispanic',  'European/Slavic']\n",
    "sizes = [.24, .46, .12, .18]\n",
    "explode = [0, .1, 0, 0]\n",
    "colors = ['#ff9999','#66b3ff','#99ff99','#ffcc99',  '#c2c2f0','#ffb3e6']\n",
    "\n",
    "# Plot\n",
    "plt.pie(sizes, labels=labels, autopct='%1.1f%%', explode=explode, colors=colors)\n",
    "plt.title(\"Stormfront: Racial Groups Receiving Violent and Targeted Posts\")\n"
   ]
  },
  {
   "cell_type": "code",
   "execution_count": 292,
   "id": "6d224b1b",
   "metadata": {},
   "outputs": [
    {
     "data": {
      "image/png": "[encoded data removed]",
      "text/plain": [
       "<Figure size 432x288 with 1 Axes>"
      ]
     },
     "metadata": {
      "needs_background": "light"
     },
     "output_type": "display_data"
    },
    {
     "data": {
      "text/plain": [
       "<AxesSubplot:xlabel='Samples', ylabel='Counts'>"
      ]
     },
     "execution_count": 292,
     "metadata": {},
     "output_type": "execute_result"
    }
   ],
   "source": [
    "asian = ['black', 'coon', 'coons','niglet', 'monkey', 'monkeys', 'negroes', 'negro', 'thug', 'negroe',  'negroes', 'negros', 'nigger', \n",
    "         'blacks', 'niggers', 'apes', 'african', 'africans', 'niggas', 'ebonics', 'monkeys', 'chimps', 'negroid', 'ghetto']\n",
    "\n",
    "rea = [w for w in words if w in asian]\n",
    "fq_rea = nltk.FreqDist(w for w in rea if w.isalnum())\n",
    "fq_rea.plot(20)"
   ]
  }
 ],
 "metadata": {
  "kernelspec": {
   "display_name": "Python 3 (ipykernel)",
   "language": "python",
   "name": "python3"
  },
  "language_info": {
   "codemirror_mode": {
    "name": "ipython",
    "version": 3
   },
   "file_extension": ".py",
   "mimetype": "text/x-python",
   "name": "python",
   "nbconvert_exporter": "python",
   "pygments_lexer": "ipython3",
   "version": "3.9.5"
  }
 },
 "nbformat": 4,
 "nbformat_minor": 5
}

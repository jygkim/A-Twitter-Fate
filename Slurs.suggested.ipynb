{
 "cells": [
  {
   "cell_type": "code",
   "execution_count": null,
   "id": "e328a7f2",
   "metadata": {},
   "outputs": [],
   "source": [
    "# Select the words that are meaningful towards the types of hate crime from the most frequency tokens above\n",
    "# Except the tokens that are used only once\n",
    "# Race/Ethnicity/Ancestry\n",
    "REA = ['white','black','jew','race','negro','country','asian','world','africa','ireland','mud','brown','jewish',\n",
    "       'irish','nation','racist','african','groid','london','immigrant','uk','canada','sweden','mexican','south',\n",
    "       'negroid','indian','racial','holocaust','diversity','skin','eye','hispanic','european','english','yellow',\n",
    "       'ethnic','immigration','generation','america','europe','american','red','whitey','mixed','chinese',\n",
    "       'marxist','mix','blood','dark','body','pakis','nonwhite','western','gene','israel','german','mongrel',\n",
    "       'nigeria','history','zog','russia','tourist','ukraine','nationalist','nonwhites','arab','refugee','specie',\n",
    "       'nigerian','mixing','mexico','nigs','hungarian','east','nig','england','aryan','cultural','national',\n",
    "       'tribe','kike','foreigner','russian','british','france','colour','jews','dublin','border','invade','york',\n",
    "       'swede','native','britain','groids','india','ghetto','nazi','polish','wiggers','blue','invasion','color',\n",
    "       'poland','ukrainian','holohoax','obama','swedish','indigenous','kaffir','foreign','spic','juden','genetic',\n",
    "       'kingston','negros','plymouth','birmingham','california','florida','goy','lorraine','nose','nigga', 'nigger'\n",
    "       'switzerland','finland','invader','interracial','mulatto','eu','global','north','blond','verl','colorfully',\n",
    "       'greece','hitler','texas','nordic','romania','antifa','islander','arabs','francisco','sheboon',\n",
    "       'iceland','racially','soviet','slavery','stockholm','oslo','winnipeg','racism','zimbabwe','americans',\n",
    "       'language','lebanese','alien','boarder','mestizo','asians','miami','ethnically','philadelphia','detroit',\n",
    "       'boston','slav','roman','ju','danish','native','italy','italian','mongrelize','nigger','trudeau', 'darkie'\n",
    "       'egyptian','jude','europa','darker','resistance','beaner','holland', 'ape', 'monkey', 'coon', 'chimp'\n",
    "       'gorilla', 'primate', 'nig', 'niglet', 'wetback', 'spic', 'paki', 'pakki','chimpout']\n",
    "# Religion/Political positions\n",
    "RE = ['liberal','hell','god','muslim','zionist','evil','christian','libtard','islam','jesus','islamic','leftist',\n",
    "      'libtards','religion','worship','kosher','supremacist','bless','communist','christ','civilize','lefty','son',\n",
    "      'zionism','political','multiculturalism','holy','moslem','bolshevik','rabbi','father','republic',\n",
    "      'lord','church','preacher','patriot','democracy','christentum', 'judeo', 'commie', 'muslim'] \n",
    "# Sexual Orientation / Sexual crime?assault?\n",
    "SO = ['couple','gay','homosexual','date','homosexuality','marriage','sexual','sex','homo','faggot','pervert',\n",
    "      'marry','rainbow','pride','lesbian','prostitution','straight','pedophilia','queer','craphole','identity',\n",
    "      'pornography','strip','boyfriend','prostitute','bi','lust','punk', 'pedo', 'pedophile', 'dyke', 'lesbo', 'tranny'\n",
    "       'cross-dress', 'cross-dresser','cross-dressing', 'shemale', 'Hermaphrodite']\n",
    "# Gender/Disability\n",
    "GD = ['woman','girl','man','men','female','male','sister','mother','daughter','creature',\n",
    "      'education','brother','boy','primitive','wife','bitch','pig','adopt','iq','deanna','spingola',\n",
    "      'lorraine','intellectual','daddy','chick','penis','blind','horse','baboon','hearing',\n",
    "      'mutate','pregnant', 'whore', 'slut', 'bitch', 'cunt', 'milf', 'dilf', 'blonde', 'rapist', 'rape']"
   ]
  }
 ],
 "metadata": {
  "kernelspec": {
   "display_name": "Python 3 (ipykernel)",
   "language": "python",
   "name": "python3"
  },
  "language_info": {
   "codemirror_mode": {
    "name": "ipython",
    "version": 3
   },
   "file_extension": ".py",
   "mimetype": "text/x-python",
   "name": "python",
   "nbconvert_exporter": "python",
   "pygments_lexer": "ipython3",
   "version": "3.9.5"
  }
 },
 "nbformat": 4,
 "nbformat_minor": 5
}
